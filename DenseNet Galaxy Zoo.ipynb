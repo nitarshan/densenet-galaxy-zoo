{
 "cells": [
  {
   "cell_type": "code",
   "execution_count": 1,
   "metadata": {},
   "outputs": [
    {
     "name": "stderr",
     "output_type": "stream",
     "text": [
      "Using TensorFlow backend.\n"
     ]
    }
   ],
   "source": [
    "%matplotlib inline\n",
    "import os\n",
    "import matplotlib.pyplot as plt\n",
    "import numpy as np\n",
    "import pandas as pd\n",
    "import random\n",
    "import tensorflow as tf\n",
    "import threading\n",
    "\n",
    "from keras import backend as K\n",
    "from keras import losses\n",
    "from keras.callbacks import Callback, LearningRateScheduler\n",
    "from keras.layers import Lambda, Dense, Input, concatenate, Activation, Conv3D, MaxPool3D, AvgPool3D, BatchNormalization, Flatten, Dropout, GlobalAveragePooling3D\n",
    "from keras.models import Model\n",
    "from keras.optimizers import Adam\n",
    "from keras.preprocessing.image import Iterator, ImageDataGenerator\n",
    "from keras.utils.data_utils import Sequence\n",
    "from skimage import img_as_float, io\n",
    "from skimage.transform import resize"
   ]
  },
  {
   "cell_type": "markdown",
   "metadata": {},
   "source": [
    "# Prepare Data"
   ]
  },
  {
   "cell_type": "code",
   "execution_count": 2,
   "metadata": {
    "collapsed": true
   },
   "outputs": [],
   "source": [
    "TRAIN = './data/images_training_rev1/'\n",
    "TEST = './data/images_test_rev1/'\n",
    "LABELS = './data/training_solutions_rev1.csv'"
   ]
  },
  {
   "cell_type": "code",
   "execution_count": 3,
   "metadata": {},
   "outputs": [
    {
     "name": "stdout",
     "output_type": "stream",
     "text": [
      "55578\n",
      "6000\n",
      "79975\n"
     ]
    }
   ],
   "source": [
    "files = sorted(os.listdir(TRAIN))\n",
    "train_files = files[6000:]\n",
    "val_files = files[:6000]\n",
    "test_files = sorted(os.listdir(TEST))\n",
    "\n",
    "print(len(train_files))\n",
    "print(len(val_files))\n",
    "print(len(test_files))"
   ]
  },
  {
   "cell_type": "code",
   "execution_count": 4,
   "metadata": {},
   "outputs": [
    {
     "name": "stdout",
     "output_type": "stream",
     "text": [
      "61578\n"
     ]
    }
   ],
   "source": [
    "train_labels = pd.read_csv(LABELS).set_index('GalaxyID').T.to_dict('list')\n",
    "print(len(train_labels))"
   ]
  },
  {
   "cell_type": "markdown",
   "metadata": {},
   "source": [
    "# Construct Model"
   ]
  },
  {
   "cell_type": "code",
   "execution_count": 7,
   "metadata": {},
   "outputs": [],
   "source": [
    "def DenseLayer(inputs, k, bn=None, drop=None):\n",
    "    x = BatchNormalization()(inputs)\n",
    "    if bn: # Bottleneck\n",
    "        x = Activation('relu')(x)\n",
    "        x = Conv3D(k*bn, (1,1,1))(x)\n",
    "        x = BatchNormalization()(x)\n",
    "    x = Activation('relu')(x)\n",
    "    x = Conv3D(k, (1,3,3), padding='same')(x)\n",
    "    if drop:\n",
    "        x = Dropout(drop)(x)\n",
    "    return concatenate([inputs, x], axis=4)\n",
    "\n",
    "def DenseBlock(x, k, L, bn=None, drop=None):\n",
    "    for l in range(L):\n",
    "        x = DenseLayer(x, k, bn, drop)\n",
    "    return x\n",
    "\n",
    "def TransitionLayer(x, k):\n",
    "    x = BatchNormalization()(x)\n",
    "    x = Activation('relu')(x)\n",
    "    x = Conv3D(k, (1,1,1))(x)\n",
    "    x = AvgPool3D((1,2,2), strides=(1,2,2), padding='same')(x)\n",
    "    return x\n",
    "    \n",
    "def DenseNet(shape, k, bn, theta, drop, B, L, outs):\n",
    "    img_input = Input(shape=(4,shape,shape,3))\n",
    "    x = Conv3D(k*2, (1,7,7), strides=(1,2,2), padding='same')(img_input)\n",
    "    x = BatchNormalization()(x)\n",
    "    x = Activation('relu')(x)\n",
    "    x = MaxPool3D((1,3,3), strides=(1,2,2), padding='same')(x)\n",
    "    for i in range(B):\n",
    "        x = DenseBlock(x, k, L, bn, drop)\n",
    "        if i != B-1:\n",
    "            k = int(k*theta) # compression\n",
    "            x = TransitionLayer(x, k)\n",
    "    x = BatchNormalization()(x)\n",
    "    x = Activation('relu')(x)\n",
    "    x = Conv3D(37, (1,7,7))(x)\n",
    "    x = GlobalAveragePooling3D()(x)\n",
    "    x = Activation('sigmoid')(x)\n",
    "    return Model(inputs=img_input, outputs=x)"
   ]
  },
  {
   "cell_type": "code",
   "execution_count": 8,
   "metadata": {},
   "outputs": [
    {
     "name": "stdout",
     "output_type": "stream",
     "text": [
      "____________________________________________________________________________________________________\n",
      "Layer (type)                     Output Shape          Param #     Connected to                     \n",
      "====================================================================================================\n",
      "input_2 (InputLayer)             (None, 4, 112, 112, 3 0                                            \n",
      "____________________________________________________________________________________________________\n",
      "conv3d_17 (Conv3D)               (None, 4, 56, 56, 80) 11840       input_2[0][0]                    \n",
      "____________________________________________________________________________________________________\n",
      "batch_normalization_17 (BatchNor (None, 4, 56, 56, 80) 320         conv3d_17[0][0]                  \n",
      "____________________________________________________________________________________________________\n",
      "activation_18 (Activation)       (None, 4, 56, 56, 80) 0           batch_normalization_17[0][0]     \n",
      "____________________________________________________________________________________________________\n",
      "max_pooling3d_2 (MaxPooling3D)   (None, 4, 28, 28, 80) 0           activation_18[0][0]              \n",
      "____________________________________________________________________________________________________\n",
      "batch_normalization_18 (BatchNor (None, 4, 28, 28, 80) 320         max_pooling3d_2[0][0]            \n",
      "____________________________________________________________________________________________________\n",
      "activation_19 (Activation)       (None, 4, 28, 28, 80) 0           batch_normalization_18[0][0]     \n",
      "____________________________________________________________________________________________________\n",
      "conv3d_18 (Conv3D)               (None, 4, 28, 28, 40) 28840       activation_19[0][0]              \n",
      "____________________________________________________________________________________________________\n",
      "concatenate_13 (Concatenate)     (None, 4, 28, 28, 120 0           max_pooling3d_2[0][0]            \n",
      "                                                                   conv3d_18[0][0]                  \n",
      "____________________________________________________________________________________________________\n",
      "batch_normalization_19 (BatchNor (None, 4, 28, 28, 120 480         concatenate_13[0][0]             \n",
      "____________________________________________________________________________________________________\n",
      "activation_20 (Activation)       (None, 4, 28, 28, 120 0           batch_normalization_19[0][0]     \n",
      "____________________________________________________________________________________________________\n",
      "conv3d_19 (Conv3D)               (None, 4, 28, 28, 40) 43240       activation_20[0][0]              \n",
      "____________________________________________________________________________________________________\n",
      "concatenate_14 (Concatenate)     (None, 4, 28, 28, 160 0           concatenate_13[0][0]             \n",
      "                                                                   conv3d_19[0][0]                  \n",
      "____________________________________________________________________________________________________\n",
      "batch_normalization_20 (BatchNor (None, 4, 28, 28, 160 640         concatenate_14[0][0]             \n",
      "____________________________________________________________________________________________________\n",
      "activation_21 (Activation)       (None, 4, 28, 28, 160 0           batch_normalization_20[0][0]     \n",
      "____________________________________________________________________________________________________\n",
      "conv3d_20 (Conv3D)               (None, 4, 28, 28, 40) 57640       activation_21[0][0]              \n",
      "____________________________________________________________________________________________________\n",
      "concatenate_15 (Concatenate)     (None, 4, 28, 28, 200 0           concatenate_14[0][0]             \n",
      "                                                                   conv3d_20[0][0]                  \n",
      "____________________________________________________________________________________________________\n",
      "batch_normalization_21 (BatchNor (None, 4, 28, 28, 200 800         concatenate_15[0][0]             \n",
      "____________________________________________________________________________________________________\n",
      "activation_22 (Activation)       (None, 4, 28, 28, 200 0           batch_normalization_21[0][0]     \n",
      "____________________________________________________________________________________________________\n",
      "conv3d_21 (Conv3D)               (None, 4, 28, 28, 40) 72040       activation_22[0][0]              \n",
      "____________________________________________________________________________________________________\n",
      "concatenate_16 (Concatenate)     (None, 4, 28, 28, 240 0           concatenate_15[0][0]             \n",
      "                                                                   conv3d_21[0][0]                  \n",
      "____________________________________________________________________________________________________\n",
      "batch_normalization_22 (BatchNor (None, 4, 28, 28, 240 960         concatenate_16[0][0]             \n",
      "____________________________________________________________________________________________________\n",
      "activation_23 (Activation)       (None, 4, 28, 28, 240 0           batch_normalization_22[0][0]     \n",
      "____________________________________________________________________________________________________\n",
      "conv3d_22 (Conv3D)               (None, 4, 28, 28, 20) 4820        activation_23[0][0]              \n",
      "____________________________________________________________________________________________________\n",
      "average_pooling3d_3 (AveragePool (None, 4, 14, 14, 20) 0           conv3d_22[0][0]                  \n",
      "____________________________________________________________________________________________________\n",
      "batch_normalization_23 (BatchNor (None, 4, 14, 14, 20) 80          average_pooling3d_3[0][0]        \n",
      "____________________________________________________________________________________________________\n",
      "activation_24 (Activation)       (None, 4, 14, 14, 20) 0           batch_normalization_23[0][0]     \n",
      "____________________________________________________________________________________________________\n",
      "conv3d_23 (Conv3D)               (None, 4, 14, 14, 20) 3620        activation_24[0][0]              \n",
      "____________________________________________________________________________________________________\n",
      "concatenate_17 (Concatenate)     (None, 4, 14, 14, 40) 0           average_pooling3d_3[0][0]        \n",
      "                                                                   conv3d_23[0][0]                  \n",
      "____________________________________________________________________________________________________\n",
      "batch_normalization_24 (BatchNor (None, 4, 14, 14, 40) 160         concatenate_17[0][0]             \n",
      "____________________________________________________________________________________________________\n",
      "activation_25 (Activation)       (None, 4, 14, 14, 40) 0           batch_normalization_24[0][0]     \n",
      "____________________________________________________________________________________________________\n",
      "conv3d_24 (Conv3D)               (None, 4, 14, 14, 20) 7220        activation_25[0][0]              \n",
      "____________________________________________________________________________________________________\n",
      "concatenate_18 (Concatenate)     (None, 4, 14, 14, 60) 0           concatenate_17[0][0]             \n",
      "                                                                   conv3d_24[0][0]                  \n",
      "____________________________________________________________________________________________________\n",
      "batch_normalization_25 (BatchNor (None, 4, 14, 14, 60) 240         concatenate_18[0][0]             \n",
      "____________________________________________________________________________________________________\n",
      "activation_26 (Activation)       (None, 4, 14, 14, 60) 0           batch_normalization_25[0][0]     \n",
      "____________________________________________________________________________________________________\n",
      "conv3d_25 (Conv3D)               (None, 4, 14, 14, 20) 10820       activation_26[0][0]              \n",
      "____________________________________________________________________________________________________\n",
      "concatenate_19 (Concatenate)     (None, 4, 14, 14, 80) 0           concatenate_18[0][0]             \n",
      "                                                                   conv3d_25[0][0]                  \n",
      "____________________________________________________________________________________________________\n",
      "batch_normalization_26 (BatchNor (None, 4, 14, 14, 80) 320         concatenate_19[0][0]             \n",
      "____________________________________________________________________________________________________\n",
      "activation_27 (Activation)       (None, 4, 14, 14, 80) 0           batch_normalization_26[0][0]     \n",
      "____________________________________________________________________________________________________\n",
      "conv3d_26 (Conv3D)               (None, 4, 14, 14, 20) 14420       activation_27[0][0]              \n",
      "____________________________________________________________________________________________________\n",
      "concatenate_20 (Concatenate)     (None, 4, 14, 14, 100 0           concatenate_19[0][0]             \n",
      "                                                                   conv3d_26[0][0]                  \n",
      "____________________________________________________________________________________________________\n",
      "batch_normalization_27 (BatchNor (None, 4, 14, 14, 100 400         concatenate_20[0][0]             \n",
      "____________________________________________________________________________________________________\n",
      "activation_28 (Activation)       (None, 4, 14, 14, 100 0           batch_normalization_27[0][0]     \n",
      "____________________________________________________________________________________________________\n",
      "conv3d_27 (Conv3D)               (None, 4, 14, 14, 10) 1010        activation_28[0][0]              \n",
      "____________________________________________________________________________________________________\n",
      "average_pooling3d_4 (AveragePool (None, 4, 7, 7, 10)   0           conv3d_27[0][0]                  \n",
      "____________________________________________________________________________________________________\n",
      "batch_normalization_28 (BatchNor (None, 4, 7, 7, 10)   40          average_pooling3d_4[0][0]        \n",
      "____________________________________________________________________________________________________\n",
      "activation_29 (Activation)       (None, 4, 7, 7, 10)   0           batch_normalization_28[0][0]     \n",
      "____________________________________________________________________________________________________\n",
      "conv3d_28 (Conv3D)               (None, 4, 7, 7, 10)   910         activation_29[0][0]              \n",
      "____________________________________________________________________________________________________\n",
      "concatenate_21 (Concatenate)     (None, 4, 7, 7, 20)   0           average_pooling3d_4[0][0]        \n",
      "                                                                   conv3d_28[0][0]                  \n",
      "____________________________________________________________________________________________________\n",
      "batch_normalization_29 (BatchNor (None, 4, 7, 7, 20)   80          concatenate_21[0][0]             \n",
      "____________________________________________________________________________________________________\n",
      "activation_30 (Activation)       (None, 4, 7, 7, 20)   0           batch_normalization_29[0][0]     \n",
      "____________________________________________________________________________________________________\n",
      "conv3d_29 (Conv3D)               (None, 4, 7, 7, 10)   1810        activation_30[0][0]              \n",
      "____________________________________________________________________________________________________\n",
      "concatenate_22 (Concatenate)     (None, 4, 7, 7, 30)   0           concatenate_21[0][0]             \n",
      "                                                                   conv3d_29[0][0]                  \n",
      "____________________________________________________________________________________________________\n",
      "batch_normalization_30 (BatchNor (None, 4, 7, 7, 30)   120         concatenate_22[0][0]             \n",
      "____________________________________________________________________________________________________\n",
      "activation_31 (Activation)       (None, 4, 7, 7, 30)   0           batch_normalization_30[0][0]     \n",
      "____________________________________________________________________________________________________\n",
      "conv3d_30 (Conv3D)               (None, 4, 7, 7, 10)   2710        activation_31[0][0]              \n",
      "____________________________________________________________________________________________________\n",
      "concatenate_23 (Concatenate)     (None, 4, 7, 7, 40)   0           concatenate_22[0][0]             \n",
      "                                                                   conv3d_30[0][0]                  \n",
      "____________________________________________________________________________________________________\n",
      "batch_normalization_31 (BatchNor (None, 4, 7, 7, 40)   160         concatenate_23[0][0]             \n",
      "____________________________________________________________________________________________________\n",
      "activation_32 (Activation)       (None, 4, 7, 7, 40)   0           batch_normalization_31[0][0]     \n",
      "____________________________________________________________________________________________________\n",
      "conv3d_31 (Conv3D)               (None, 4, 7, 7, 10)   3610        activation_32[0][0]              \n",
      "____________________________________________________________________________________________________\n",
      "concatenate_24 (Concatenate)     (None, 4, 7, 7, 50)   0           concatenate_23[0][0]             \n",
      "                                                                   conv3d_31[0][0]                  \n",
      "____________________________________________________________________________________________________\n",
      "batch_normalization_32 (BatchNor (None, 4, 7, 7, 50)   200         concatenate_24[0][0]             \n",
      "____________________________________________________________________________________________________\n",
      "activation_33 (Activation)       (None, 4, 7, 7, 50)   0           batch_normalization_32[0][0]     \n",
      "____________________________________________________________________________________________________\n",
      "conv3d_32 (Conv3D)               (None, 4, 1, 1, 37)   90687       activation_33[0][0]              \n",
      "____________________________________________________________________________________________________\n",
      "global_average_pooling3d_2 (Glob (None, 37)            0           conv3d_32[0][0]                  \n",
      "____________________________________________________________________________________________________\n",
      "activation_34 (Activation)       (None, 37)            0           global_average_pooling3d_2[0][0] \n",
      "====================================================================================================\n",
      "Total params: 360,557\n",
      "Trainable params: 357,897\n",
      "Non-trainable params: 2,660\n",
      "____________________________________________________________________________________________________\n"
     ]
    }
   ],
   "source": [
    "IMAGE_SIZE = 112\n",
    "model = DenseNet(IMAGE_SIZE, k=40, bn=None, theta=0.5, drop=None, B=3, L=4, outs=37)\n",
    "model.summary()"
   ]
  },
  {
   "cell_type": "markdown",
   "metadata": {},
   "source": [
    "# Build Data Generator"
   ]
  },
  {
   "cell_type": "code",
   "execution_count": 17,
   "metadata": {},
   "outputs": [],
   "source": [
    "class StandardIterator(Iterator):\n",
    "    def __init__(self, primary_dir, primary_files, labels=None,\n",
    "                 batch_size=64, shuffle=True, seed=None,\n",
    "                 secondary_dir=None, secondary_files=None):\n",
    "        self.primary_dir = primary_dir\n",
    "        self.file_names = primary_files + secondary_files if secondary_files else primary_files\n",
    "        self.boundary = len(primary_files)\n",
    "        self.secondary_dir = secondary_dir\n",
    "        self.labels = labels\n",
    "        super(StandardIterator, self).__init__(len(self.file_names), batch_size, shuffle, seed)\n",
    "    \n",
    "    def update(self, labels):\n",
    "        with self.lock:\n",
    "            self.labels = labels\n",
    "    \n",
    "    def next(self):\n",
    "        with self.lock:\n",
    "            index_array, current_index, current_batch_size = next(self.index_generator)\n",
    "            batch_x = np.zeros((current_batch_size,4,IMAGE_SIZE,IMAGE_SIZE,3), dtype=K.floatx())\n",
    "            batch_y = np.zeros((current_batch_size,37), dtype=K.floatx()) if self.labels else None\n",
    "        \n",
    "        for i, j in enumerate(index_array):\n",
    "            is_primary = j < self.boundary\n",
    "            fname = self.file_names[j]\n",
    "            file_dir = self.primary_dir if is_primary else self.secondary_dir\n",
    "            fpath = os.path.join(file_dir, fname)\n",
    "            img = io.imread(fpath)\n",
    "            img = img[70:-70,70:-70]\n",
    "            img = resize(img, (IMAGE_SIZE,IMAGE_SIZE), mode='reflect')\n",
    "            x = img_as_float(img)\n",
    "            arrs = [np.rot90(x, a) for a in range(4)]\n",
    "            x = np.stack(arrs,0)\n",
    "            batch_x[i] = x\n",
    "            if not (batch_y is None):\n",
    "                batch_y[i] = np.reshape(self.labels[int(fname[:-4])], (-1,37))\n",
    "        return (batch_x, batch_y) if (not (batch_y is None)) else batch_x"
   ]
  },
  {
   "cell_type": "code",
   "execution_count": 18,
   "metadata": {
    "collapsed": true
   },
   "outputs": [],
   "source": [
    "class MixedIterator(object):\n",
    "    def __init__(self, train_dir, train_files, validation_files,\n",
    "                 test_dir, test_files, train_labels, batch_split):\n",
    "        self.train_dir = train_dir\n",
    "        self.test_dir = test_dir\n",
    "        self.train_files = train_files\n",
    "        self.validation_files = validation_files\n",
    "        self.test_files = test_files\n",
    "        self.train_labels = train_labels\n",
    "        self.pseudo_labels = {}\n",
    "        self.train_gen = StandardIterator(train_dir, train_files, train_labels, batch_size=batch_split[0])\n",
    "        self.pseudo_gen = StandardIterator(train_dir, validation_files, batch_size=batch_split[1],\n",
    "                                           secondary_dir=self.test_dir, secondary_files=self.test_files)\n",
    "        self.lock = threading.Lock()\n",
    "    \n",
    "    def reset(self):\n",
    "        self.train_gen.reset()\n",
    "        self.pseudo_gen.reset()\n",
    "        \n",
    "    def get_pseudo_labels(self):\n",
    "        return self.pseudo_labels\n",
    "    \n",
    "    def update(self, model):\n",
    "        with self.lock:\n",
    "            pred_gen = StandardIterator(self.train_dir, self.validation_files, shuffle=False, batch_size=60)\n",
    "            new_labels = model.predict_generator(pred_gen, len(self.validation_files)//60, verbose=1)\n",
    "            for i, j in enumerate(self.validation_files):\n",
    "                name = int(j[:-4])\n",
    "                self.pseudo_labels[name] = new_labels[i,:]\n",
    "            pred_gen = StandardIterator(self.test_dir, self.test_files, shuffle=False, batch_size=35)\n",
    "            new_labels = model.predict_generator(pred_gen, len(self.test_files)//35, verbose=1)\n",
    "            for i, j in enumerate(self.test_files):\n",
    "                name = int(j[:-4])\n",
    "                self.pseudo_labels[name] = new_labels[i,:]\n",
    "            self.pseudo_gen.update(self.pseudo_labels)\n",
    "            \n",
    "    def __next__(self):\n",
    "        return self.next()\n",
    "    \n",
    "    def next(self):\n",
    "        with self.lock:\n",
    "            a = next(self.train_gen)\n",
    "            if len(self.pseudo_labels) > 0:\n",
    "                b = next(self.pseudo_gen)\n",
    "                return (np.concatenate((a[0],b[0])), np.concatenate((a[1],b[1])))\n",
    "            else:\n",
    "                return a"
   ]
  },
  {
   "cell_type": "markdown",
   "metadata": {},
   "source": [
    "# Train Model"
   ]
  },
  {
   "cell_type": "code",
   "execution_count": 19,
   "metadata": {
    "collapsed": true
   },
   "outputs": [],
   "source": [
    "def rmse(y_true, y_pred):\n",
    "    return K.sqrt(losses.mean_squared_error(y_true, y_pred))"
   ]
  },
  {
   "cell_type": "code",
   "execution_count": 21,
   "metadata": {},
   "outputs": [],
   "source": [
    "BATCH_SIZE = 32\n",
    "TRAIN_BATCH_SIZE = 22\n",
    "PSEUDO_BATCH_SIZE = BATCH_SIZE - TRAIN_BATCH_SIZE\n",
    "\n",
    "train_generator = StandardIterator(TRAIN, train_files, train_labels, batch_size=BATCH_SIZE)\n",
    "pseudo_generator = MixedIterator(TRAIN, train_files, val_files, TEST, test_files, train_labels,\n",
    "                                 batch_split=(TRAIN_BATCH_SIZE, PSEUDO_BATCH_SIZE))\n",
    "val_generator = StandardIterator(TRAIN, val_files, train_labels, batch_size=BATCH_SIZE, shuffle=False)"
   ]
  },
  {
   "cell_type": "code",
   "execution_count": 23,
   "metadata": {
    "scrolled": true
   },
   "outputs": [
    {
     "name": "stdout",
     "output_type": "stream",
     "text": [
      "Epoch 1/30\n",
      "1736/1736 [==============================] - 404s - loss: 0.0955 - val_loss: 0.1143\n",
      "Epoch 2/30\n",
      "1736/1736 [==============================] - 402s - loss: 0.0916 - val_loss: 0.1265\n",
      "Epoch 3/30\n",
      "1736/1736 [==============================] - 401s - loss: 0.0894 - val_loss: 0.0955\n",
      "Epoch 4/30\n",
      "1736/1736 [==============================] - 403s - loss: 0.0873 - val_loss: 0.0909\n",
      "Epoch 5/30\n",
      "1736/1736 [==============================] - 401s - loss: 0.0861 - val_loss: 0.0891\n",
      "Epoch 6/30\n",
      "1736/1736 [==============================] - 401s - loss: 0.0847 - val_loss: 0.0908\n",
      "Epoch 7/30\n",
      "1736/1736 [==============================] - 401s - loss: 0.0837 - val_loss: 0.0909\n",
      "Epoch 8/30\n",
      "1736/1736 [==============================] - 401s - loss: 0.0826 - val_loss: 0.0856\n",
      "Epoch 9/30\n",
      "1736/1736 [==============================] - 402s - loss: 0.0817 - val_loss: 0.0854\n",
      "Epoch 10/30\n",
      "1736/1736 [==============================] - 400s - loss: 0.0810 - val_loss: 0.0883\n",
      "Epoch 11/30\n",
      "1736/1736 [==============================] - 401s - loss: 0.0801 - val_loss: 0.0851\n",
      "Epoch 12/30\n",
      "1736/1736 [==============================] - 401s - loss: 0.0795 - val_loss: 0.0844\n",
      "Epoch 13/30\n",
      "1736/1736 [==============================] - 401s - loss: 0.0788 - val_loss: 0.0976\n",
      "Epoch 14/30\n",
      "1736/1736 [==============================] - 402s - loss: 0.0784 - val_loss: 0.0822\n",
      "Epoch 15/30\n",
      "1736/1736 [==============================] - 401s - loss: 0.0777 - val_loss: 0.0878\n",
      "Epoch 16/30\n",
      "1736/1736 [==============================] - 402s - loss: 0.0772 - val_loss: 0.0902\n",
      "Epoch 17/30\n",
      "1736/1736 [==============================] - 402s - loss: 0.0767 - val_loss: 0.0843\n",
      "Epoch 18/30\n",
      "1736/1736 [==============================] - 401s - loss: 0.0762 - val_loss: 0.0840\n",
      "Epoch 19/30\n",
      "1736/1736 [==============================] - 402s - loss: 0.0759 - val_loss: 0.0827\n",
      "Epoch 20/30\n",
      "1736/1736 [==============================] - 402s - loss: 0.0749 - val_loss: 0.0828\n",
      "Epoch 21/30\n",
      "1736/1736 [==============================] - 402s - loss: 0.0750 - val_loss: 0.0830\n",
      "Epoch 22/30\n",
      "1736/1736 [==============================] - 402s - loss: 0.0744 - val_loss: 0.0863\n",
      "Epoch 23/30\n",
      "1736/1736 [==============================] - 402s - loss: 0.0740 - val_loss: 0.0826\n",
      "Epoch 24/30\n",
      "1736/1736 [==============================] - 401s - loss: 0.0736 - val_loss: 0.0859\n",
      "Epoch 25/30\n",
      "1736/1736 [==============================] - 401s - loss: 0.0732 - val_loss: 0.0826\n",
      "Epoch 26/30\n",
      "1736/1736 [==============================] - 402s - loss: 0.0729 - val_loss: 0.0863\n",
      "Epoch 27/30\n",
      "1736/1736 [==============================] - 403s - loss: 0.0723 - val_loss: 0.0833\n",
      "Epoch 28/30\n",
      "1736/1736 [==============================] - 401s - loss: 0.0721 - val_loss: 0.0860\n",
      "Epoch 29/30\n",
      "1736/1736 [==============================] - 403s - loss: 0.0718 - val_loss: 0.0836\n",
      "Epoch 30/30\n",
      "1736/1736 [==============================] - 402s - loss: 0.0715 - val_loss: 0.0828\n"
     ]
    }
   ],
   "source": [
    "model.compile(optimizer=Adam(0.001), loss=rmse)\n",
    "training_progress = model.fit_generator(train_generator,\n",
    "                        steps_per_epoch=len(train_files)//BATCH_SIZE,\n",
    "                        epochs=30,\n",
    "                        validation_data=val_generator,\n",
    "                        validation_steps=len(val_files)//BATCH_SIZE,\n",
    "                        max_queue_size=10)"
   ]
  },
  {
   "cell_type": "code",
   "execution_count": 24,
   "metadata": {},
   "outputs": [
    {
     "data": {
      "text/plain": [
       "[<matplotlib.lines.Line2D at 0x7f46d6cdeeb8>]"
      ]
     },
     "execution_count": 24,
     "metadata": {},
     "output_type": "execute_result"
    },
    {
     "data": {
      "image/png": "[encoded data removed]",
      "text/plain": [
       "<matplotlib.figure.Figure at 0x7f46d6cdee80>"
      ]
     },
     "metadata": {},
     "output_type": "display_data"
    }
   ],
   "source": [
    "plt.plot(training_progress.epoch, training_progress.history['loss'], label='Train')\n",
    "plt.plot(training_progress.epoch, training_progress.history['val_loss'], label='Validation')"
   ]
  },
  {
   "cell_type": "code",
   "execution_count": 25,
   "metadata": {},
   "outputs": [
    {
     "name": "stdout",
     "output_type": "stream",
     "text": [
      "100/100 [==============================] - 33s    \n",
      "2285/2285 [==============================] - 479s   \n",
      "Epoch 1/5\n",
      "2526/2526 [==============================] - 570s - loss: 0.0566 - val_loss: 0.0829\n",
      "Epoch 2/5\n",
      "2526/2526 [==============================] - 569s - loss: 0.0564 - val_loss: 0.0848\n",
      "Epoch 3/5\n",
      "2526/2526 [==============================] - 568s - loss: 0.0561 - val_loss: 0.0886\n",
      "Epoch 4/5\n",
      "2526/2526 [==============================] - 568s - loss: 0.0560 - val_loss: 0.0819\n",
      "Epoch 5/5\n",
      "2526/2526 [==============================] - 569s - loss: 0.0557 - val_loss: 0.0915\n"
     ]
    }
   ],
   "source": [
    "pseudo_generator.update(model)\n",
    "training_progress = model.fit_generator(pseudo_generator,\n",
    "                        steps_per_epoch=len(train_files)//TRAIN_BATCH_SIZE,\n",
    "                        epochs=5,\n",
    "                        validation_data=val_generator,\n",
    "                        validation_steps=len(val_files)//BATCH_SIZE,\n",
    "                        max_queue_size=10)"
   ]
  },
  {
   "cell_type": "code",
   "execution_count": 26,
   "metadata": {},
   "outputs": [
    {
     "data": {
      "text/plain": [
       "[<matplotlib.lines.Line2D at 0x7f4646593908>]"
      ]
     },
     "execution_count": 26,
     "metadata": {},
     "output_type": "execute_result"
    },
    {
     "data": {
      "image/png": "[encoded data removed]",
      "text/plain": [
       "<matplotlib.figure.Figure at 0x7f4646593780>"
      ]
     },
     "metadata": {},
     "output_type": "display_data"
    }
   ],
   "source": [
    "plt.plot(training_progress.epoch, training_progress.history['loss'], label='Train')\n",
    "plt.plot(training_progress.epoch, training_progress.history['val_loss'], label='Validation')"
   ]
  },
  {
   "cell_type": "code",
   "execution_count": 27,
   "metadata": {},
   "outputs": [
    {
     "name": "stdout",
     "output_type": "stream",
     "text": [
      "Epoch 1/10\n",
      "1736/1736 [==============================] - 403s - loss: 0.0668 - val_loss: 0.0808\n",
      "Epoch 2/10\n",
      "1736/1736 [==============================] - 403s - loss: 0.0657 - val_loss: 0.0810\n",
      "Epoch 3/10\n",
      "1736/1736 [==============================] - 402s - loss: 0.0653 - val_loss: 0.0809\n",
      "Epoch 4/10\n",
      "1736/1736 [==============================] - 403s - loss: 0.0651 - val_loss: 0.0809\n",
      "Epoch 5/10\n",
      "1736/1736 [==============================] - 402s - loss: 0.0648 - val_loss: 0.0810\n",
      "Epoch 6/10\n",
      "1736/1736 [==============================] - 402s - loss: 0.0646 - val_loss: 0.0811\n",
      "Epoch 7/10\n",
      "1736/1736 [==============================] - 401s - loss: 0.0645 - val_loss: 0.0812\n",
      "Epoch 8/10\n",
      "1736/1736 [==============================] - 402s - loss: 0.0643 - val_loss: 0.0813\n",
      "Epoch 9/10\n",
      "1736/1736 [==============================] - 401s - loss: 0.0641 - val_loss: 0.0813\n",
      "Epoch 10/10\n",
      "1736/1736 [==============================] - 403s - loss: 0.0641 - val_loss: 0.0818\n"
     ]
    }
   ],
   "source": [
    "model.compile(optimizer=Adam(0.0001), loss=rmse)\n",
    "training_progress = model.fit_generator(train_generator,\n",
    "                        steps_per_epoch=len(train_files)//BATCH_SIZE,\n",
    "                        epochs=10,\n",
    "                        validation_data=val_generator,\n",
    "                        validation_steps=len(val_files)//BATCH_SIZE,\n",
    "                        max_queue_size=10)"
   ]
  },
  {
   "cell_type": "code",
   "execution_count": 28,
   "metadata": {},
   "outputs": [
    {
     "data": {
      "text/plain": [
       "[<matplotlib.lines.Line2D at 0x7f46458ce4a8>]"
      ]
     },
     "execution_count": 28,
     "metadata": {},
     "output_type": "execute_result"
    },
    {
     "data": {
      "image/png": "[encoded data removed]",
      "text/plain": [
       "<matplotlib.figure.Figure at 0x7f46458ce860>"
      ]
     },
     "metadata": {},
     "output_type": "display_data"
    }
   ],
   "source": [
    "plt.plot(training_progress.epoch, training_progress.history['loss'], label='Train')\n",
    "plt.plot(training_progress.epoch, training_progress.history['val_loss'], label='Validation')"
   ]
  },
  {
   "cell_type": "code",
   "execution_count": 29,
   "metadata": {},
   "outputs": [
    {
     "name": "stdout",
     "output_type": "stream",
     "text": [
      "100/100 [==============================] - 33s    \n",
      "2285/2285 [==============================] - 443s   \n",
      "Epoch 1/5\n",
      "2526/2526 [==============================] - 569s - loss: 0.0478 - val_loss: 0.0819\n",
      "Epoch 2/5\n",
      "2526/2526 [==============================] - 569s - loss: 0.0477 - val_loss: 0.0819\n",
      "Epoch 3/5\n",
      "2526/2526 [==============================] - 569s - loss: 0.0476 - val_loss: 0.0817\n",
      "Epoch 4/5\n",
      "2526/2526 [==============================] - 570s - loss: 0.0476 - val_loss: 0.0815\n",
      "Epoch 5/5\n",
      "2526/2526 [==============================] - 569s - loss: 0.0475 - val_loss: 0.0818\n"
     ]
    }
   ],
   "source": [
    "pseudo_generator.reset()\n",
    "pseudo_generator.update(model)\n",
    "training_progress = model.fit_generator(pseudo_generator,\n",
    "                        steps_per_epoch=len(train_files)//TRAIN_BATCH_SIZE,\n",
    "                        epochs=5,\n",
    "                        validation_data=val_generator,\n",
    "                        validation_steps=len(val_files)//BATCH_SIZE,\n",
    "                        max_queue_size=10)"
   ]
  },
  {
   "cell_type": "code",
   "execution_count": 30,
   "metadata": {},
   "outputs": [
    {
     "data": {
      "text/plain": [
       "[<matplotlib.lines.Line2D at 0x7f4646598550>]"
      ]
     },
     "execution_count": 30,
     "metadata": {},
     "output_type": "execute_result"
    },
    {
     "data": {
      "image/png": "[encoded data removed]",
      "text/plain": [
       "<matplotlib.figure.Figure at 0x7f4646598438>"
      ]
     },
     "metadata": {},
     "output_type": "display_data"
    }
   ],
   "source": [
    "plt.plot(training_progress.epoch, training_progress.history['loss'], label='Train')\n",
    "plt.plot(training_progress.epoch, training_progress.history['val_loss'], label='Validation')"
   ]
  },
  {
   "cell_type": "markdown",
   "metadata": {},
   "source": [
    "# Predict Outputs"
   ]
  },
  {
   "cell_type": "code",
   "execution_count": null,
   "metadata": {},
   "outputs": [],
   "source": [
    "test_size = len(test_files)\n",
    "preds = model.predict_generator(StandardIterator(TEST, test_files, batch_size=35, shuffle=False), steps=test_size//35, verbose=1)"
   ]
  },
  {
   "cell_type": "code",
   "execution_count": null,
   "metadata": {
    "collapsed": true
   },
   "outputs": [],
   "source": [
    "train_headers = pd.read_csv(LABELS)\n",
    "\n",
    "files2 = sorted(os.listdir(TEST))\n",
    "files2 = list(map(lambda x: int(x[:-4]), files2))\n",
    "\n",
    "outputcsv = pd.DataFrame(data=np.c_[files2, preds],\n",
    "                         index=np.arange(len(files2)),\n",
    "                         columns=train_headers.columns)\n",
    "outputcsv[['GalaxyID']] = outputcsv[['GalaxyID']].astype(int)\n",
    "outputcsv.to_csv('./predictions.csv', index=False)"
   ]
  },
  {
   "cell_type": "code",
   "execution_count": null,
   "metadata": {
    "collapsed": true
   },
   "outputs": [],
   "source": []
  }
 ],
 "metadata": {
  "kernelspec": {
   "display_name": "Python 3",
   "language": "python",
   "name": "python3"
  },
  "language_info": {
   "codemirror_mode": {
    "name": "ipython",
    "version": 3
   },
   "file_extension": ".py",
   "mimetype": "text/x-python",
   "name": "python",
   "nbconvert_exporter": "python",
   "pygments_lexer": "ipython3",
   "version": "3.6.1"
  }
 },
 "nbformat": 4,
 "nbformat_minor": 2
}
